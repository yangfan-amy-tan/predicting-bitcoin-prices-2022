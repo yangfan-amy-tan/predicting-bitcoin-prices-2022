{
 "cells": [
  {
   "cell_type": "markdown",
   "metadata": {
    "id": "6epM5SYYxtq4"
   },
   "source": [
    "# 1. Prepare modules "
   ]
  },
  {
   "cell_type": "code",
   "execution_count": 1,
   "metadata": {
    "colab": {
     "base_uri": "https://localhost:8080/"
    },
    "id": "xhvQr6iIuwhI",
    "outputId": "568086f3-29c4-4ccf-c376-6594786a87c2"
   },
   "outputs": [],
   "source": [
    "# ! pip install yfinance # Uncomment this line and install the yfinance package if you haven't. "
   ]
  },
  {
   "cell_type": "markdown",
   "metadata": {},
   "source": [
    "*yfinance* is an open-source tool that uses Yahoo's publicly available APIs, and is intended for research and educational purposes. *yfinance* is not affiliated, endorsed, or vetted by Yahoo, Inc. https://pypi.org/project/yfinance/ "
   ]
  },
  {
   "cell_type": "code",
   "execution_count": 2,
   "metadata": {
    "id": "kNSCMNMlwZ9K"
   },
   "outputs": [],
   "source": [
    "import yfinance as yf\n",
    "import pandas as pd\n",
    "import datetime as dt "
   ]
  },
  {
   "cell_type": "markdown",
   "metadata": {
    "id": "8JBOWRL5x9_J"
   },
   "source": [
    "# 2. Download 10 financial variables using *yfinance*. \n",
    "\n",
    "\n",
    "1.   BTC-USD: bitcoin price in us dollars (USD)\n",
    "2.   ^GSPC: S&P 500\n",
    "3. ^DJI: Dow Jones Industrial Average\n",
    "4. ^IXIC: NASDAQ Composite\n",
    "5. CL=F: Crude Oil price\n",
    "6. GC=F: Gold price\n",
    "7. EURUSD=X: EUR/USD exchange rate\n",
    "8. ^TNX: Treasury Yield 10 Years; \n",
    "9. ETH-USD: Ethereum price in USD\n",
    "10. USDT-USD: Tether price in USD"
   ]
  },
  {
   "cell_type": "code",
   "execution_count": 3,
   "metadata": {
    "id": "baBMi_5NXNOO"
   },
   "outputs": [],
   "source": [
    "start_date=\"2016-01-01\"\n",
    "end_date=\"2019-11-22\""
   ]
  },
  {
   "cell_type": "code",
   "execution_count": 4,
   "metadata": {
    "colab": {
     "base_uri": "https://localhost:8080/"
    },
    "id": "lt1e6bRuwex8",
    "outputId": "fe38a383-159b-4b27-e806-749971fef1de"
   },
   "outputs": [
    {
     "name": "stdout",
     "output_type": "stream",
     "text": [
      "[*********************100%***********************]  10 of 10 completed\n"
     ]
    }
   ],
   "source": [
    "yfin_data = yf.download( \n",
    "        tickers = 'BTC-USD ^GSPC ^DJI ^IXIC CL=F GC=F EURUSD=X ^TNX USDT-USD ETH-USD',\n",
    "        start=start_date, \n",
    "        end=end_date)[['Close']]"
   ]
  },
  {
   "cell_type": "code",
   "execution_count": 5,
   "metadata": {
    "colab": {
     "base_uri": "https://localhost:8080/"
    },
    "id": "pmNebb12whbn",
    "outputId": "8c63a63e-0fec-4b2b-b3d9-fe720b2d0db8"
   },
   "outputs": [
    {
     "data": {
      "text/plain": [
       "MultiIndex([('Close',  'BTC-USD'),\n",
       "            ('Close',     'CL=F'),\n",
       "            ('Close',  'ETH-USD'),\n",
       "            ('Close', 'EURUSD=X'),\n",
       "            ('Close',     'GC=F'),\n",
       "            ('Close', 'USDT-USD'),\n",
       "            ('Close',     '^DJI'),\n",
       "            ('Close',    '^GSPC'),\n",
       "            ('Close',    '^IXIC'),\n",
       "            ('Close',     '^TNX')],\n",
       "           )"
      ]
     },
     "execution_count": 5,
     "metadata": {},
     "output_type": "execute_result"
    }
   ],
   "source": [
    "# Change column names \n",
    "yfin_data.columns"
   ]
  },
  {
   "cell_type": "code",
   "execution_count": 6,
   "metadata": {
    "id": "JhxTvz_SwNcY"
   },
   "outputs": [],
   "source": [
    "yfin_data.columns = ['btc', 'oil', 'ethereum', 'euro', 'gold', 'tether', 'dow', 'sp', 'nasdaq', 'tenyear']"
   ]
  },
  {
   "cell_type": "code",
   "execution_count": 7,
   "metadata": {
    "colab": {
     "base_uri": "https://localhost:8080/"
    },
    "id": "SlKCDmEfwQLM",
    "outputId": "56f88030-20ea-400f-c690-6ad9c7dc4d1e"
   },
   "outputs": [
    {
     "data": {
      "text/plain": [
       "(1421, 10)"
      ]
     },
     "execution_count": 7,
     "metadata": {},
     "output_type": "execute_result"
    }
   ],
   "source": [
    "yfin_data.shape"
   ]
  },
  {
   "cell_type": "code",
   "execution_count": 8,
   "metadata": {
    "colab": {
     "base_uri": "https://localhost:8080/",
     "height": 237
    },
    "id": "WFGzABFCwQuO",
    "outputId": "016ca2e9-fcc4-4f7f-a068-c178ad9b02cf"
   },
   "outputs": [
    {
     "data": {
      "text/html": [
       "<div>\n",
       "<style scoped>\n",
       "    .dataframe tbody tr th:only-of-type {\n",
       "        vertical-align: middle;\n",
       "    }\n",
       "\n",
       "    .dataframe tbody tr th {\n",
       "        vertical-align: top;\n",
       "    }\n",
       "\n",
       "    .dataframe thead th {\n",
       "        text-align: right;\n",
       "    }\n",
       "</style>\n",
       "<table border=\"1\" class=\"dataframe\">\n",
       "  <thead>\n",
       "    <tr style=\"text-align: right;\">\n",
       "      <th></th>\n",
       "      <th>btc</th>\n",
       "      <th>oil</th>\n",
       "      <th>ethereum</th>\n",
       "      <th>euro</th>\n",
       "      <th>gold</th>\n",
       "      <th>tether</th>\n",
       "      <th>dow</th>\n",
       "      <th>sp</th>\n",
       "      <th>nasdaq</th>\n",
       "      <th>tenyear</th>\n",
       "    </tr>\n",
       "    <tr>\n",
       "      <th>Date</th>\n",
       "      <th></th>\n",
       "      <th></th>\n",
       "      <th></th>\n",
       "      <th></th>\n",
       "      <th></th>\n",
       "      <th></th>\n",
       "      <th></th>\n",
       "      <th></th>\n",
       "      <th></th>\n",
       "      <th></th>\n",
       "    </tr>\n",
       "  </thead>\n",
       "  <tbody>\n",
       "    <tr>\n",
       "      <th>2016-01-01</th>\n",
       "      <td>434.334015</td>\n",
       "      <td>NaN</td>\n",
       "      <td>NaN</td>\n",
       "      <td>1.085906</td>\n",
       "      <td>NaN</td>\n",
       "      <td>NaN</td>\n",
       "      <td>NaN</td>\n",
       "      <td>NaN</td>\n",
       "      <td>NaN</td>\n",
       "      <td>NaN</td>\n",
       "    </tr>\n",
       "    <tr>\n",
       "      <th>2016-01-02</th>\n",
       "      <td>433.437988</td>\n",
       "      <td>NaN</td>\n",
       "      <td>NaN</td>\n",
       "      <td>NaN</td>\n",
       "      <td>NaN</td>\n",
       "      <td>NaN</td>\n",
       "      <td>NaN</td>\n",
       "      <td>NaN</td>\n",
       "      <td>NaN</td>\n",
       "      <td>NaN</td>\n",
       "    </tr>\n",
       "    <tr>\n",
       "      <th>2016-01-03</th>\n",
       "      <td>430.010986</td>\n",
       "      <td>NaN</td>\n",
       "      <td>NaN</td>\n",
       "      <td>NaN</td>\n",
       "      <td>NaN</td>\n",
       "      <td>NaN</td>\n",
       "      <td>NaN</td>\n",
       "      <td>NaN</td>\n",
       "      <td>NaN</td>\n",
       "      <td>NaN</td>\n",
       "    </tr>\n",
       "    <tr>\n",
       "      <th>2016-01-04</th>\n",
       "      <td>433.091003</td>\n",
       "      <td>36.759998</td>\n",
       "      <td>NaN</td>\n",
       "      <td>1.085399</td>\n",
       "      <td>1075.099976</td>\n",
       "      <td>NaN</td>\n",
       "      <td>17148.939453</td>\n",
       "      <td>2012.660034</td>\n",
       "      <td>4903.089844</td>\n",
       "      <td>2.245</td>\n",
       "    </tr>\n",
       "    <tr>\n",
       "      <th>2016-01-05</th>\n",
       "      <td>431.959991</td>\n",
       "      <td>35.970001</td>\n",
       "      <td>NaN</td>\n",
       "      <td>1.082755</td>\n",
       "      <td>1078.400024</td>\n",
       "      <td>NaN</td>\n",
       "      <td>17158.660156</td>\n",
       "      <td>2016.709961</td>\n",
       "      <td>4891.430176</td>\n",
       "      <td>2.248</td>\n",
       "    </tr>\n",
       "  </tbody>\n",
       "</table>\n",
       "</div>"
      ],
      "text/plain": [
       "                   btc        oil  ethereum      euro         gold  tether  \\\n",
       "Date                                                                         \n",
       "2016-01-01  434.334015        NaN       NaN  1.085906          NaN     NaN   \n",
       "2016-01-02  433.437988        NaN       NaN       NaN          NaN     NaN   \n",
       "2016-01-03  430.010986        NaN       NaN       NaN          NaN     NaN   \n",
       "2016-01-04  433.091003  36.759998       NaN  1.085399  1075.099976     NaN   \n",
       "2016-01-05  431.959991  35.970001       NaN  1.082755  1078.400024     NaN   \n",
       "\n",
       "                     dow           sp       nasdaq  tenyear  \n",
       "Date                                                         \n",
       "2016-01-01           NaN          NaN          NaN      NaN  \n",
       "2016-01-02           NaN          NaN          NaN      NaN  \n",
       "2016-01-03           NaN          NaN          NaN      NaN  \n",
       "2016-01-04  17148.939453  2012.660034  4903.089844    2.245  \n",
       "2016-01-05  17158.660156  2016.709961  4891.430176    2.248  "
      ]
     },
     "execution_count": 8,
     "metadata": {},
     "output_type": "execute_result"
    }
   ],
   "source": [
    "yfin_data.head()"
   ]
  },
  {
   "cell_type": "markdown",
   "metadata": {
    "id": "Xkw-L32rUfia"
   },
   "source": [
    "# Visualization of Bitcoin price movements (absoulte values)"
   ]
  },
  {
   "cell_type": "code",
   "execution_count": 9,
   "metadata": {
    "colab": {
     "base_uri": "https://localhost:8080/"
    },
    "id": "7PmXBrCdXpxi",
    "outputId": "5da0f0f4-65d4-422e-b57d-487aa88f7489"
   },
   "outputs": [
    {
     "data": {
      "text/plain": [
       "str"
      ]
     },
     "execution_count": 9,
     "metadata": {},
     "output_type": "execute_result"
    }
   ],
   "source": [
    "type(start_date)"
   ]
  },
  {
   "cell_type": "code",
   "execution_count": 10,
   "metadata": {
    "colab": {
     "base_uri": "https://localhost:8080/",
     "height": 295
    },
    "id": "dqbO34T_wTGC",
    "outputId": "097b9320-487d-4e06-d70b-221c1c41e0d8"
   },
   "outputs": [
    {
     "data": {
      "image/png": "[encoded data removed]",
      "text/plain": [
       "<Figure size 640x480 with 1 Axes>"
      ]
     },
     "metadata": {},
     "output_type": "display_data"
    }
   ],
   "source": [
    "yfin_data.btc.plot(title='Bitcoin price from ' + start_date + ' to ' + end_date);"
   ]
  },
  {
   "cell_type": "code",
   "execution_count": 11,
   "metadata": {
    "colab": {
     "base_uri": "https://localhost:8080/",
     "height": 330
    },
    "id": "iYDzT5-ATIDW",
    "outputId": "0760faac-03fd-4172-8e3e-b12aa6b304a8"
   },
   "outputs": [
    {
     "data": {
      "image/png": "[encoded data removed]",
      "text/plain": [
       "<Figure size 640x480 with 1 Axes>"
      ]
     },
     "metadata": {},
     "output_type": "display_data"
    }
   ],
   "source": [
    "yfin_data[(yfin_data.index >= '2019-08-01')&  (yfin_data.index <='2019-08-31')].btc.plot(title='Bitcoin price from 2019-08-01 to 2019-08-31');"
   ]
  },
  {
   "cell_type": "markdown",
   "metadata": {
    "id": "r2ytjsrYwT_3"
   },
   "source": [
    "# 3. Process data"
   ]
  },
  {
   "cell_type": "code",
   "execution_count": 13,
   "metadata": {
    "id": "LJdb33qjwZ5N"
   },
   "outputs": [],
   "source": [
    "yfin_data_processed = yfin_data.copy()\n",
    "columns = yfin_data.columns"
   ]
  },
  {
   "cell_type": "code",
   "execution_count": 14,
   "metadata": {
    "id": "1g-v4FzUwbZs"
   },
   "outputs": [],
   "source": [
    "# Add 1) yesterday price and 2) price change compared to yesterday for each variable. \n",
    "for data in columns:\n",
    "    # Set new column names     \n",
    "    data_yesterday = data + '_ytd'\n",
    "    data_change_yesterday = data + '_change_ytd'\n",
    "    # Shift(1) to add yesterday price \n",
    "    yfin_data_processed[data_yesterday] = yfin_data_processed[data].shift(1) \n",
    "    # Add a change variable, which equals to 1 if price goes up compared to yesterday, otherwise 0. \n",
    "    yfin_data_processed[data_change_yesterday] = (yfin_data_processed[data] > yfin_data_processed[data_yesterday]).astype(int) # Create columns for price change, 1 for up, 0 for down or nochange. "
   ]
  },
  {
   "cell_type": "code",
   "execution_count": 15,
   "metadata": {
    "id": "D5e2Rsw7x2IX"
   },
   "outputs": [],
   "source": [
    "# Add 1) tomorrow price and 2) price change compared to tomorrow for each variable. \n",
    "for data in columns:\n",
    "    # Set new column names     \n",
    "    data_tomorrow = data + '_tmr'\n",
    "    data_change_tomorrow = data + '_change_tmr'\n",
    "    # Shift(-1) to add tomorrow price \n",
    "    yfin_data_processed[data_tomorrow] = yfin_data_processed[data].shift(-1) \n",
    "    # Add a change variable, which equals to 1 if tomorrow price goes up, otherwise 0. \n",
    "    yfin_data_processed[data_change_tomorrow] = (yfin_data_processed[data_tomorrow] > yfin_data_processed[data]).astype(int) # Create columns for price change, 1 for up, 0 for down or nochange. "
   ]
  },
  {
   "cell_type": "code",
   "execution_count": 16,
   "metadata": {
    "colab": {
     "base_uri": "https://localhost:8080/"
    },
    "id": "ugBvCS1eyRiB",
    "outputId": "7201c8e3-35bb-4474-cd3d-6889f8209f84"
   },
   "outputs": [
    {
     "data": {
      "text/plain": [
       "1    793\n",
       "0    628\n",
       "Name: btc_change_tmr, dtype: int64"
      ]
     },
     "execution_count": 16,
     "metadata": {},
     "output_type": "execute_result"
    }
   ],
   "source": [
    "yfin_data_processed.btc_change_tmr.value_counts()\n",
    "# It is rather balanced!"
   ]
  },
  {
   "cell_type": "markdown",
   "metadata": {
    "id": "0N2QkK2xyzyj"
   },
   "source": [
    "# 4. Save"
   ]
  },
  {
   "cell_type": "code",
   "execution_count": 17,
   "metadata": {
    "id": "2InKyyv5ygR5"
   },
   "outputs": [],
   "source": [
    "yfin_data_processed.to_csv('yfinance_2016_2019.csv') \n",
    "# Only uncomment and run this if you want to rewrite the file!"
   ]
  }
 ],
 "metadata": {
  "colab": {
   "provenance": []
  },
  "kernelspec": {
   "display_name": "Python 3 (ipykernel)",
   "language": "python",
   "name": "python3"
  },
  "language_info": {
   "codemirror_mode": {
    "name": "ipython",
    "version": 3
   },
   "file_extension": ".py",
   "mimetype": "text/x-python",
   "name": "python",
   "nbconvert_exporter": "python",
   "pygments_lexer": "ipython3",
   "version": "3.8.5"
  }
 },
 "nbformat": 4,
 "nbformat_minor": 1
}
